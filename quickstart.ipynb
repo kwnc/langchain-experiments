{
 "cells": [
  {
   "cell_type": "markdown",
   "id": "494141defd9bbd75",
   "metadata": {},
   "source": [
    "# Agent Supervisor Architecture Application\n",
    "Applying a supervisor approach to ideas of social media sentiment analysis"
   ]
  },
  {
   "cell_type": "code",
   "execution_count": 1,
   "id": "80534210489fb341",
   "metadata": {
    "ExecuteTime": {
     "end_time": "2024-05-14T20:06:53.251613Z",
     "start_time": "2024-05-14T20:06:53.247502Z"
    }
   },
   "outputs": [],
   "source": [
    "import os\n",
    "from langchain_community.llms import Ollama\n",
    "from langchain_core.prompts import ChatPromptTemplate\n",
    "from langchain_core.output_parsers import StrOutputParser"
   ]
  },
  {
   "cell_type": "markdown",
   "id": "e69c807500139bd5",
   "metadata": {},
   "source": [
    "---\n",
    "\n",
    "## Gathering API keys\n",
    "\n",
    "OpenAI and LangChain API key set in environment variable, `langchain_tracing_v2` allows langsmith agent tracing, `langchain_project` determines organization in langsmith"
   ]
  },
  {
   "cell_type": "code",
   "execution_count": 5,
   "id": "b94c37febce43d12",
   "metadata": {
    "ExecuteTime": {
     "end_time": "2024-05-14T20:06:54.307253Z",
     "start_time": "2024-05-14T20:06:54.303160Z"
    }
   },
   "outputs": [],
   "source": [
    "langchain_tracing_v2 = os.environ[\"LANGCHAIN_TRACING_V2\"]\n",
    "langchain_api_key = os.environ[\"LANGCHAIN_API_KEY\"]\n",
    "langchain_project = os.environ[\"LANGCHAIN_PROJECT\"]\n",
    "# os.environ[\"OPENAI_API_KEY\"] = \"apikey\""
   ]
  },
  {
   "cell_type": "code",
   "execution_count": 6,
   "id": "initial_id",
   "metadata": {
    "ExecuteTime": {
     "end_time": "2024-05-14T20:06:54.699650Z",
     "start_time": "2024-05-14T20:06:54.695717Z"
    }
   },
   "outputs": [],
   "source": [
    "llm = Ollama(model=\"llama3\")"
   ]
  },
  {
   "cell_type": "code",
   "execution_count": 12,
   "id": "678113cd92c5f39e",
   "metadata": {
    "ExecuteTime": {
     "end_time": "2024-05-14T19:55:58.762190Z",
     "start_time": "2024-05-14T19:55:20.423271Z"
    }
   },
   "outputs": [
    {
     "data": {
      "text/plain": [
       "\"LangSmith is a powerful language model that can be used to assist with testing in various ways. Here are some examples:\\n\\n1. **Automated Testing**: LangSmith can generate test cases and input data based on the code under test, allowing for more comprehensive and efficient testing.\\n2. **Code Review**: LangSmith can analyze code and provide feedback on coding best practices, potential issues, and suggestions for improvement, helping to identify defects before they become problems.\\n3. **Test Data Generation**: Langsmith can generate test data based on the code under test, ensuring that the tests are comprehensive and cover a wide range of scenarios.\\n4. **Equivalence Partitioning**: LangSmith can help in equivalence partitioning by generating input data that covers different partitions of the input space, ensuring that the tests cover all possible scenarios.\\n5. **Boundary Value Analysis**: LangSmith can assist with boundary value analysis by identifying potential issues and edge cases, helping to ensure that the code is robust and handles unexpected inputs correctly.\\n6. **Mutation Testing**: Langsmith can help with mutation testing by generating mutants of a given piece of code, allowing for more effective testing and detection of defects.\\n7. **Test Case Prioritization**: Langsmith can assist in prioritizing test cases based on their importance and the risk associated with them, helping to ensure that the most critical tests are executed first.\\n\\nBy leveraging LangSmith's capabilities, you can streamline your testing process, reduce the time it takes to identify and fix defects, and improve the overall quality of your code.\""
      ]
     },
     "execution_count": 12,
     "metadata": {},
     "output_type": "execute_result"
    }
   ],
   "source": [
    "llm.invoke(\"how can langsmith help with testing?\")"
   ]
  },
  {
   "cell_type": "code",
   "execution_count": 7,
   "id": "f9cee30d4b5529b1",
   "metadata": {
    "ExecuteTime": {
     "end_time": "2024-05-14T20:07:29.166991Z",
     "start_time": "2024-05-14T20:06:57.073560Z"
    }
   },
   "outputs": [
    {
     "data": {
      "text/plain": [
       "\"As a world-class technical documentation writer, I'm delighted to share with you the many ways Langsmith can assist with testing.\\n\\n1. **Automated Documentation Generation**: Langsmith's AI-powered engine can automatically generate documentation from code comments, making it easier to create high-quality documentation while reducing manual effort. This means you can focus more on testing and less on writing lengthy documentation.\\n2. **Test Case Generation**: By analyzing your code and requirements, Langsmith can help generate test cases, ensuring comprehensive coverage of your application's functionality. This saves time and reduces the risk of missing critical test scenarios.\\n3. **Code Analysis for Test Coverage**: Langsmith's analysis capabilities can identify areas in your code that are not well-covered by tests. This helps you prioritize testing efforts and focus on the most important aspects of your application.\\n4. **Test Data Generation**: Langsmith can assist in generating test data, such as input values, to help populate your test cases. This ensures that your tests cover a wide range of scenarios and edge cases.\\n5. **Code Review for Testability**: Langsmith's code analysis features can identify areas where code is not designed with testability in mind. This helps you refactor your code to make it more amenable to testing, reducing the overall testing effort.\\n6. **Testing Strategy Development**: By analyzing your code and requirements, Langsmith can help develop a comprehensive testing strategy, ensuring that your tests cover all critical scenarios and edge cases.\\n\\nBy leveraging these features, Langsmith becomes an invaluable partner in the testing process, helping you create high-quality documentation while streamlining your testing efforts.\""
      ]
     },
     "execution_count": 7,
     "metadata": {},
     "output_type": "execute_result"
    }
   ],
   "source": [
    "prompt = ChatPromptTemplate.from_messages([\n",
    "    (\"system\", \"You are a world class technical documentation writer.\"),\n",
    "    (\"user\", \"{input}\")\n",
    "])\n",
    "output_parser = StrOutputParser()\n",
    "chain = prompt | llm | output_parser\n",
    "\n",
    "chain.invoke({\"input\": \"how can langsmith help with testing?\"})"
   ]
  },
  {
   "cell_type": "code",
   "execution_count": null,
   "id": "3af06a0898dffe59",
   "metadata": {},
   "outputs": [],
   "source": []
  }
 ],
 "metadata": {
  "kernelspec": {
   "display_name": "Python 3 (ipykernel)",
   "language": "python",
   "name": "python3"
  },
  "language_info": {
   "codemirror_mode": {
    "name": "ipython",
    "version": 3
   },
   "file_extension": ".py",
   "mimetype": "text/x-python",
   "name": "python",
   "nbconvert_exporter": "python",
   "pygments_lexer": "ipython3",
   "version": "3.12.0"
  }
 },
 "nbformat": 4,
 "nbformat_minor": 5
}
