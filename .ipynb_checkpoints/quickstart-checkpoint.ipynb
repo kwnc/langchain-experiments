{
 "cells": [
  {
   "metadata": {},
   "cell_type": "markdown",
   "source": [
    "# Agent Supervisor Architecture Application\n",
    "Applying a supervisor approach to ideas of social media sentiment analysis"
   ],
   "id": "494141defd9bbd75"
  },
  {
   "metadata": {
    "ExecuteTime": {
     "end_time": "2024-05-14T20:06:53.251613Z",
     "start_time": "2024-05-14T20:06:53.247502Z"
    }
   },
   "cell_type": "code",
   "source": [
    "import os\n",
    "from langchain_community.llms import Ollama\n",
    "from langchain_core.prompts import ChatPromptTemplate\n",
    "from langchain_core.output_parsers import StrOutputParser"
   ],
   "id": "80534210489fb341",
   "outputs": [],
   "execution_count": 22
  },
  {
   "metadata": {},
   "cell_type": "markdown",
   "source": [
    "---\n",
    "\n",
    "## Gathering API keys\n",
    "\n",
    "OpenAI and LangChain API key set in environment variable, `langchain_tracing_v2` allows langsmith agent tracing, `langchain_project` determines organization in langsmith"
   ],
   "id": "e69c807500139bd5"
  },
  {
   "metadata": {},
   "cell_type": "markdown",
   "source": "",
   "id": "c97db45a01f632ec"
  },
  {
   "metadata": {
    "ExecuteTime": {
     "end_time": "2024-05-14T20:06:54.307253Z",
     "start_time": "2024-05-14T20:06:54.303160Z"
    }
   },
   "cell_type": "code",
   "source": [
    "# openai key, langchain key all environment variables\n",
    "langchain_tracing_v2 = os.environ[\"LANGCHAIN_TRACING_V2\"]\n",
    "langchain_api_key = os.environ[\"LANGCHAIN_API_KEY\"]\n",
    "langchain_project = os.environ[\"LANGCHAIN_PROJECT\"]\n",
    "# os.environ[\"OPENAI_API_KEY\"] = \"apikey\""
   ],
   "id": "b94c37febce43d12",
   "outputs": [],
   "execution_count": 23
  },
  {
   "cell_type": "code",
   "id": "initial_id",
   "metadata": {
    "collapsed": true,
    "ExecuteTime": {
     "end_time": "2024-05-14T20:06:54.699650Z",
     "start_time": "2024-05-14T20:06:54.695717Z"
    }
   },
   "source": "llm = Ollama(model=\"llama3\")",
   "outputs": [],
   "execution_count": 24
  },
  {
   "metadata": {
    "ExecuteTime": {
     "end_time": "2024-05-14T19:55:58.762190Z",
     "start_time": "2024-05-14T19:55:20.423271Z"
    }
   },
   "cell_type": "code",
   "source": "llm.invoke(\"how can langsmith help with testing?\")",
   "id": "678113cd92c5f39e",
   "outputs": [
    {
     "data": {
      "text/plain": [
       "\"LangSmith is a powerful language model that can be used to assist with testing in various ways. Here are some examples:\\n\\n1. **Automated Testing**: LangSmith can generate test cases and input data based on the code under test, allowing for more comprehensive and efficient testing.\\n2. **Code Review**: LangSmith can analyze code and provide feedback on coding best practices, potential issues, and suggestions for improvement, helping to identify defects before they become problems.\\n3. **Test Data Generation**: Langsmith can generate test data based on the code under test, ensuring that the tests are comprehensive and cover a wide range of scenarios.\\n4. **Equivalence Partitioning**: LangSmith can help in equivalence partitioning by generating input data that covers different partitions of the input space, ensuring that the tests cover all possible scenarios.\\n5. **Boundary Value Analysis**: LangSmith can assist with boundary value analysis by identifying potential issues and edge cases, helping to ensure that the code is robust and handles unexpected inputs correctly.\\n6. **Mutation Testing**: Langsmith can help with mutation testing by generating mutants of a given piece of code, allowing for more effective testing and detection of defects.\\n7. **Test Case Prioritization**: Langsmith can assist in prioritizing test cases based on their importance and the risk associated with them, helping to ensure that the most critical tests are executed first.\\n\\nBy leveraging LangSmith's capabilities, you can streamline your testing process, reduce the time it takes to identify and fix defects, and improve the overall quality of your code.\""
      ]
     },
     "execution_count": 12,
     "metadata": {},
     "output_type": "execute_result"
    }
   ],
   "execution_count": 12
  },
  {
   "metadata": {
    "ExecuteTime": {
     "end_time": "2024-05-14T20:07:29.166991Z",
     "start_time": "2024-05-14T20:06:57.073560Z"
    }
   },
   "cell_type": "code",
   "source": [
    "prompt = ChatPromptTemplate.from_messages([\n",
    "    (\"system\", \"You are a world class technical documentation writer.\"),\n",
    "    (\"user\", \"{input}\")\n",
    "])\n",
    "output_parser = StrOutputParser()\n",
    "chain = prompt | llm | output_parser\n",
    "\n",
    "chain.invoke({\"input\": \"how can langsmith help with testing?\"})"
   ],
   "id": "f9cee30d4b5529b1",
   "outputs": [
    {
     "data": {
      "text/plain": [
       "\"As a technical documentation writer, I've worked closely with developers and QA teams to ensure that our documentation is not only accurate but also comprehensive and easy to understand. And that's where Langsmith comes in!\\n\\nLangsmith can help with testing in several ways:\\n\\n1. **Automated Testing**: Langsmith can generate automated test cases based on your documentation, reducing the need for manual testing and freeing up QA engineers to focus on more complex tasks.\\n2. **Test Data Generation**: Langsmith can automatically generate test data that is relevant to your product or feature, ensuring that tests are comprehensive and realistic.\\n3. **Test Case Execution**: Langsmith can execute automated tests against your application, providing detailed results and reducing the need for manual testing.\\n4. **Code Review**: Langsmith can analyze code snippets and provide suggestions on how to improve them, helping developers write more efficient and maintainable code.\\n\\nBy integrating Langsmith with our documentation, we can:\\n\\n1. Ensure that our documentation is accurate and up-to-date by automatically generating tests based on changes to the docs.\\n2. Reduce the testing burden on QA engineers by automating repetitive tasks and focusing on more complex scenarios.\\n3. Improve the overall quality of our product by ensuring that tests are comprehensive and realistic, reducing the risk of defects.\\n\\nOverall, Langsmith can help us streamline our testing process, reduce manual labor, and improve the overall quality of our product.\""
      ]
     },
     "execution_count": 25,
     "metadata": {},
     "output_type": "execute_result"
    }
   ],
   "execution_count": 25
  },
  {
   "metadata": {},
   "cell_type": "code",
   "outputs": [],
   "execution_count": null,
   "source": "",
   "id": "3af06a0898dffe59"
  }
 ],
 "metadata": {
  "kernelspec": {
   "display_name": "Python 3",
   "language": "python",
   "name": "python3"
  },
  "language_info": {
   "codemirror_mode": {
    "name": "ipython",
    "version": 2
   },
   "file_extension": ".py",
   "mimetype": "text/x-python",
   "name": "python",
   "nbconvert_exporter": "python",
   "pygments_lexer": "ipython2",
   "version": "2.7.6"
  }
 },
 "nbformat": 4,
 "nbformat_minor": 5
}
